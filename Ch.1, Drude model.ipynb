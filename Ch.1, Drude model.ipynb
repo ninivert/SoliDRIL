{
 "cells": [
  {
   "cell_type": "code",
   "execution_count": null,
   "metadata": {},
   "outputs": [],
   "source": [
    "import matplotlib.pyplot as plt\n",
    "import numpy as np\n",
    "\n",
    "from numpy import random\n",
    "from ipywidgets import interactive\n",
    "from matplotlib import animation\n",
    "from IPython.display import HTML\n",
    "%matplotlib widget"
   ]
  },
  {
   "cell_type": "code",
   "execution_count": null,
   "metadata": {},
   "outputs": [],
   "source": [
    "# Initial condition\n",
    "num = 5; # number of electrons to simulate\n",
    "time = 5; # number of pseu-time steps\n",
    "Ex = 1E-12;\n",
    "Ey = 0;\n",
    "\n",
    "e = 1.602E-19; # Electron charge\n",
    "m = 9.109E-31; # (Bare) electron mass\n",
    "\n",
    "x = np.zeros(num);\n",
    "x = np.expand_dims(x,axis=0);\n",
    "y = np.arange(num);\n",
    "y = np.expand_dims(y,axis=0);\n",
    "\n",
    "vx = np.zeros(num);\n",
    "vy = np.zeros(num);\n",
    "velocity = list(zip(vx,vy));\n",
    "\n",
    "t = 1E-3; # Mean free path (lifetime)"
   ]
  },
  {
   "cell_type": "code",
   "execution_count": null,
   "metadata": {},
   "outputs": [],
   "source": [
    "chance = random.rand(1,time);\n",
    "for tt in range(1,time):\n",
    "    newX = x + vx*tt + 0.5*Ex*e*tt**2/m; # Update the coordinate\n",
    "    newY = y + vy*tt + 0.5*Ey*e*tt**2/m; # Update the coordinate\n",
    "    x = np.append(x, x+newX, 0); # Append the new coordinate\n",
    "    y = np.append(y, y+newY, 0); # Append the new coordinate\n",
    "    for ii in range(num):\n",
    "        if(chance[0,ii] <= 1/t):\n",
    "            theta = random.rand()*2*np.pi; # pick a random angle in 2D\n",
    "            vx[ii] = np.cos(theta)*np.linalg.norm(velocity[ii])\n",
    "            vy[ii] = np.sin(theta)*np.linalg.norm(velocity[ii]);\n",
    "            velocity[ii] = (vx[ii],vy[ii]);\n",
    "        else:\n",
    "            vx[ii] = vx[ii] + Ex*e*t/m; # Update the velocity\n",
    "            vy[ii] = vy[ii] + Ey*e*t/m; # Update the velocity"
   ]
  },
  {
   "cell_type": "code",
   "execution_count": null,
   "metadata": {},
   "outputs": [],
   "source": [
    "plt.scatter(x,y);\n",
    "plt.show()"
   ]
  },
  {
   "cell_type": "code",
   "execution_count": null,
   "metadata": {},
   "outputs": [],
   "source": []
  },
  {
   "cell_type": "code",
   "execution_count": null,
   "metadata": {},
   "outputs": [],
   "source": []
  },
  {
   "cell_type": "code",
   "execution_count": null,
   "metadata": {},
   "outputs": [],
   "source": []
  }
 ],
 "metadata": {
  "kernelspec": {
   "display_name": "Python 3",
   "language": "python",
   "name": "python3"
  },
  "language_info": {
   "codemirror_mode": {
    "name": "ipython",
    "version": 3
   },
   "file_extension": ".py",
   "mimetype": "text/x-python",
   "name": "python",
   "nbconvert_exporter": "python",
   "pygments_lexer": "ipython3",
   "version": "3.6.10"
  }
 },
 "nbformat": 4,
 "nbformat_minor": 4
}

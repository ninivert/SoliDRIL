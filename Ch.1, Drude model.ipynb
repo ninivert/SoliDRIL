{
 "cells": [
  {
   "cell_type": "code",
   "execution_count": null,
   "metadata": {},
   "outputs": [],
   "source": [
    "import matplotlib.pyplot as plt\n",
    "import numpy as np\n",
    "from numpy import random\n",
    "from ipywidgets import interactive\n",
    "from matplotlib import animation\n",
    "from IPython.display import HTML\n",
    "%matplotlib widget"
   ]
  },
  {
   "cell_type": "code",
   "execution_count": null,
   "metadata": {},
   "outputs": [],
   "source": [
    "# Initial condition\n",
    "num = 10; # number of electrons to simulate\n",
    "time = 30; # number of pseu-time steps\n",
    "Ex = -1E-11;\n",
    "Ey = 0;\n",
    "yBnd = 2*num;\n",
    "\n",
    "e = -1.602E-19; # Electron charge\n",
    "m = 9.109E-31; # (Bare) electron mass\n",
    "tau = 0.5; # Mean free time\n",
    "\n",
    "global x, y\n",
    "x = np.zeros(num);\n",
    "x = np.expand_dims(x,axis=0);\n",
    "y = 2*np.arange(num)-num;\n",
    "y = np.expand_dims(y,axis=0);\n",
    "\n",
    "vx = np.zeros(num);\n",
    "vy = np.zeros(num);"
   ]
  },
  {
   "cell_type": "code",
   "execution_count": null,
   "metadata": {},
   "outputs": [],
   "source": [
    "# chance = random.rand(num,time);\n",
    "# for tt in range(1,time+1):\n",
    "#     newX = np.zeros(num);\n",
    "#     newY = np.zeros(num);\n",
    "#     for nn in range(num):\n",
    "#         newX[nn] = x[tt-1][nn] + vx[nn] + 0.5*Ex*e/m; # Update the coordinate\n",
    "#         newY[nn] = y[tt-1][nn] + vy[nn] + 0.5*Ey*e/m; # Update the coordinate\n",
    "#         vx[nn] = vx[nn] + Ex*e*(1+tt)/m; # Update the velocity\n",
    "#         vy[nn] = vy[nn] + Ey*e*(1+tt)/m; # Update the velocity     \n",
    "#         if(chance[nn,tt-1] < 1/tau):\n",
    "#             theta = random.rand()*2*np.pi; # pick a random angle in 2D\n",
    "# #             vx[nn] = np.cos(theta)*np.linalg.norm((vx[nn],vy[nn]));\n",
    "# #             vy[nn] = np.sin(theta)*np.linalg.norm((vx[nn],vy[nn]));\n",
    "#             vx[nn] = np.cos(theta)*random.rand();\n",
    "#             vy[nn] = np.sin(theta)*random.rand();\n",
    "#         if(newY[nn] > yBnd):\n",
    "#             newY[nn] = yBnd; # Restrict movements of the electrons by the physical boundary\n",
    "#             vy[nn] = -np.absolute(vy[nn]);\n",
    "#         elif(newY[nn] < -yBnd):\n",
    "#             newY[nn] = -yBnd;\n",
    "#             vy[nn] = np.absolute(vy[nn]);\n",
    "#     x = np.concatenate((x, newX[None,:]), axis=0); # Append the new coordinate\n",
    "#     y = np.concatenate((y, newY[None,:]), axis=0); # Append the new coordinate"
   ]
  },
  {
   "cell_type": "code",
   "execution_count": null,
   "metadata": {},
   "outputs": [],
   "source": [
    "# fig = plt.figure();\n",
    "# ax = plt.axes();\n",
    "# past = ax.scatter(x,y);\n",
    "# init, = ax.plot(x[0,:],y[0,:],'ok',markerfacecolor = 'black')\n",
    "# end, = ax.plot(x[len(x)-1,:],y[len(y)-1,:],'or',markerfacecolor = 'red')\n",
    "# traj = ax.plot(x,y,'--');\n",
    "# ax.set_ylim(-1.2*yBnd,1.2*yBnd);\n",
    "# plt.show()"
   ]
  },
  {
   "cell_type": "code",
   "execution_count": null,
   "metadata": {},
   "outputs": [],
   "source": [
    "# Create figure object\n",
    "fig = plt.figure();\n",
    "ax = plt.axes();\n",
    "past, = ax.plot([],[],'o');\n",
    "init, = ax.plot([],[],'ok',markerfacecolor = 'black')\n",
    "end, = ax.plot([],[],'or',markerfacecolor = 'red')\n",
    "traj, = ax.plot([],[],'--');\n",
    "ax.set_ylim(-1.2*yBnd,1.2*yBnd);\n",
    "plt.show()\n",
    "# Initialize the frame\n",
    "def initf():\n",
    "    init.set_data(x[0,:],y[0,:])\n",
    "    return init,\n",
    "\n",
    "# Animation function which updates figure data.  This is called sequentially\n",
    "def animate(tt,Ex,Ey,vx,vy,tau):\n",
    "    global x,y\n",
    "    e = -1.602E-19; # Electron charge\n",
    "    m = 9.109E-31; # (Bare) electron mass\n",
    "    newX = np.zeros(num);\n",
    "    newY = np.zeros(num);\n",
    "    for nn in range(num):\n",
    "        newX[nn] = x[tt-1][nn] + vx[nn] + 0.5*Ex*e/m; # Update the coordinate\n",
    "        newY[nn] = y[tt-1][nn] + vy[nn] + 0.5*Ey*e/m; # Update the coordinate\n",
    "        vx[nn] = vx[nn] + Ex*e*(1+tt)/m; # Update the velocity\n",
    "        vy[nn] = vy[nn] + Ey*e*(1+tt)/m; # Update the velocity     \n",
    "        if(random.rand() < 1/tau):\n",
    "            theta = random.rand()*2*np.pi; # pick a random angle in 2D\n",
    "#             vx[nn] = np.cos(theta)*np.linalg.norm((vx[nn],vy[nn]));\n",
    "#             vy[nn] = np.sin(theta)*np.linalg.norm((vx[nn],vy[nn]));\n",
    "            vx[nn] = np.cos(theta)*random.rand();\n",
    "            vy[nn] = np.sin(theta)*random.rand();\n",
    "        if(newY[nn] > yBnd):\n",
    "            newY[nn] = yBnd; # Restrict movements of the electrons by the physical boundary\n",
    "            vy[nn] = -np.absolute(vy[nn]);\n",
    "        elif(newY[nn] < -yBnd):\n",
    "            newY[nn] = -yBnd;\n",
    "            vy[nn] = np.absolute(vy[nn]);\n",
    "    x = np.concatenate((x, newX[None,:]), axis=0); # Append the new coordinate\n",
    "    y = np.concatenate((y, newY[None,:]), axis=0); # Append the new coordinate\n",
    "\n",
    "    past.set_data(x,y);\n",
    "    end.set_data(x[len(x)-1,:],y[len(y)-1,:]);\n",
    "    traj.set_data(x[:],y[:]);\n",
    "    \n",
    "    ax.set_xlim(np.min(x),np.max(x));\n",
    "    return past, end, traj,\n",
    "\n",
    "# Call the animator.  blit=True means only re-draw the parts that have changed.\n",
    "anim = animation.FuncAnimation(fig, animate, init_func=initf, fargs = (Ex,Ey,vx,vy,tau), frames=range(1,time+1), interval=500, blit=True, repeat = False)\n",
    "x = np.zeros(num);\n",
    "x = np.expand_dims(x,axis=0);\n",
    "y = 2*np.arange(num)-num;\n",
    "y = np.expand_dims(y,axis=0);"
   ]
  },
  {
   "cell_type": "code",
   "execution_count": null,
   "metadata": {},
   "outputs": [],
   "source": [
    "num"
   ]
  },
  {
   "cell_type": "code",
   "execution_count": null,
   "metadata": {},
   "outputs": [],
   "source": [
    "x[:,1]"
   ]
  },
  {
   "cell_type": "code",
   "execution_count": null,
   "metadata": {},
   "outputs": [],
   "source": []
  }
 ],
 "metadata": {
  "kernelspec": {
   "display_name": "Python 3",
   "language": "python",
   "name": "python3"
  },
  "language_info": {
   "codemirror_mode": {
    "name": "ipython",
    "version": 3
   },
   "file_extension": ".py",
   "mimetype": "text/x-python",
   "name": "python",
   "nbconvert_exporter": "python",
   "pygments_lexer": "ipython3",
   "version": "3.6.10"
  }
 },
 "nbformat": 4,
 "nbformat_minor": 4
}

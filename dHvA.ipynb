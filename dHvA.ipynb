{
 "cells": [
  {
   "cell_type": "code",
   "execution_count": 1,
   "metadata": {},
   "outputs": [],
   "source": [
    "import numpy as np\n",
    "import matplotlib.pyplot as plt\n",
    "\n",
    "# from __future__ import print_function\n",
    "from ipywidgets import interact, interactive, fixed, interact_manual\n",
    "import ipywidgets as widgets\n",
    "\n",
    "%matplotlib inline"
   ]
  },
  {
   "cell_type": "code",
   "execution_count": 2,
   "metadata": {},
   "outputs": [
    {
     "data": {
      "image/png": "[encoded data removed]",
      "text/plain": [
       "<Figure size 432x288 with 1 Axes>"
      ]
     },
     "metadata": {
      "needs_background": "light"
     },
     "output_type": "display_data"
    }
   ],
   "source": [
    "x=np.linspace(-3.14,3.14,100);\n",
    "y=np.cos(x)+1.30;\n",
    "plt.plot(y,x,-y,x);"
   ]
  },
  {
   "cell_type": "code",
   "execution_count": null,
   "metadata": {},
   "outputs": [],
   "source": []
  },
  {
   "cell_type": "code",
   "execution_count": 12,
   "metadata": {},
   "outputs": [],
   "source": [
    "ms=0.25;\n",
    "ap=0.50;\n",
    "def cyclo(B):\n",
    "    kz = np.linspace(-np.pi, np.pi);\n",
    "    Ez = np.cos(kz)+1.0+ms;\n",
    "\n",
    "    dA = B;\n",
    "    A = np.arange(0.5*dA, (2.0+ms)**2, dA);\n",
    "    rk=np.sqrt(A);\n",
    "    rk2 = np.array([np.flip(-rk),rk]);\n",
    "    kz=np.arccos(abs(rk2)-(1.0+ms))*np.sign(rk2);\n",
    "    rk3 = np.array([-rk2,rk2]);\n",
    "    kz1= np.array([kz,kz]);\n",
    "    dos=abs(rk2/np.abs(rk2)/(np.sin(kz)+0.01));\n",
    "    \n",
    "    x=np.linspace(-3.14,3.14,100);\n",
    "    y=np.cos(x)+(1.0+ms);\n",
    "    #plt.plot(y,x,-y,x);\n",
    "    #plt.scatter(rk3,kz1)\n",
    "    \n",
    "    #plt.scatter(dos,kz)\n",
    "    return(np.sum(dos))\n",
    "    #plt.hist(kz,5)\n",
    "    \n",
    "def cyclop(B):\n",
    "    kz = np.linspace(-np.pi, np.pi);\n",
    "    Ez = np.cos(kz)+(1.0+ms);\n",
    "\n",
    "    dA = B;\n",
    "    lbd=(np.mod(ms**2,dA)+1.5)*dA\n",
    "    \n",
    "    A = np.arange(0.5*dA, (2.0+ms)**2, dA);\n",
    "    rk=np.sqrt(A);\n",
    "    rk2 = np.array([np.flip(-rk),rk]);\n",
    "    kz=np.arccos(abs(rk2)-(1.0+ms))*np.sign(rk2);\n",
    "    rk3 = np.array([-rk2,rk2]);\n",
    "    kz1= np.array([kz,kz]);\n",
    "    dos=abs(rk2/np.abs(rk2)/(np.sin(kz)+0.01));\n",
    "    \n",
    "    x=np.linspace(-3.14,3.14,100);\n",
    "    y=np.cos(x)+(1.0+ms);\n",
    "    plt.figure()\n",
    "    plt.plot(y,x,-y,x);\n",
    "    plt.scatter(rk3,kz1)\n",
    "    plt.figure()\n",
    "    plt.xlim(0,3.2)\n",
    "    plt.scatter(kz,dos)\n",
    "    #return(np.sum(dos))\n",
    "    #plt.hist(kz,5)\n",
    "    "
   ]
  },
  {
   "cell_type": "code",
   "execution_count": 13,
   "metadata": {},
   "outputs": [
    {
     "data": {
      "application/vnd.jupyter.widget-view+json": {
       "model_id": "2f0ba31a2aba41e3b6313b747c5f59f0",
       "version_major": 2,
       "version_minor": 0
      },
      "text/plain": [
       "interactive(children=(FloatSlider(value=1.05, description='B', max=2.0, min=0.1), Output()), _dom_classes=('wi…"
      ]
     },
     "metadata": {},
     "output_type": "display_data"
    },
    {
     "data": {
      "text/plain": [
       "<function __main__.cyclop(B)>"
      ]
     },
     "execution_count": 13,
     "metadata": {},
     "output_type": "execute_result"
    }
   ],
   "source": [
    "interact(cyclop,B=(0.1,2))"
   ]
  },
  {
   "cell_type": "code",
   "execution_count": 19,
   "metadata": {},
   "outputs": [
    {
     "name": "stderr",
     "output_type": "stream",
     "text": [
      "/usr/local/lib/python3.6/dist-packages/ipykernel_launcher.py:11: RuntimeWarning: invalid value encountered in arccos\n",
      "  # This is added back by InteractiveShellApp.init_path()\n",
      "/usr/local/lib/python3.6/dist-packages/ipykernel_launcher.py:8: RuntimeWarning: overflow encountered in exp\n",
      "  \n"
     ]
    },
    {
     "data": {
      "text/plain": [
       "[<matplotlib.lines.Line2D at 0x7f6fddaa4ef0>]"
      ]
     },
     "execution_count": 19,
     "metadata": {},
     "output_type": "execute_result"
    },
    {
     "data": {
      "image/png": "[encoded data removed]",
      "text/plain": [
       "<Figure size 432x288 with 1 Axes>"
      ]
     },
     "metadata": {
      "needs_background": "light"
     },
     "output_type": "display_data"
    }
   ],
   "source": [
    "B1=np.arange(0.01,10,0.01)\n",
    "Bs=1.0/B1\n",
    "#Bs=np.arange(0.01,10.0,0.001);\n",
    "dens=[];\n",
    "for ii in Bs:\n",
    "    dens.append(cyclo(ii));\n",
    "plt.figure()\n",
    "smeard=1.0/np.exp(dens)\n",
    "#plt.xlim(0.0,2.0)\n",
    "plt.ylim(0.0,800)\n",
    "plt.plot(1.0/Bs,dens)"
   ]
  },
  {
   "cell_type": "code",
   "execution_count": null,
   "metadata": {},
   "outputs": [],
   "source": []
  },
  {
   "cell_type": "code",
   "execution_count": null,
   "metadata": {},
   "outputs": [],
   "source": []
  }
 ],
 "metadata": {
  "kernelspec": {
   "display_name": "Python 3",
   "language": "python",
   "name": "python3"
  },
  "language_info": {
   "codemirror_mode": {
    "name": "ipython",
    "version": 3
   },
   "file_extension": ".py",
   "mimetype": "text/x-python",
   "name": "python",
   "nbconvert_exporter": "python",
   "pygments_lexer": "ipython3",
   "version": "3.6.9"
  }
 },
 "nbformat": 4,
 "nbformat_minor": 4
}

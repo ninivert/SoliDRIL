{
 "cells": [
  {
   "cell_type": "markdown",
   "metadata": {},
   "source": [
    "# Hund's rules\n",
    "This notebook illustrates Hund's rules that allow determining quantum numbers $S$, $L$ and $J$ of an isolated atom or ion from its electronic configuration. Considering a partially filled electronic shell, the following three rules have to be applied in the order given below:\n",
    "\n",
    "1. The total spin angular momentum $S=\\Sigma|m_s|$ takes its maximum possible value;\n",
    "2. The total orbital angular momentum $L=\\Sigma|m_l|$ is maximized;\n",
    "3. For more than half-filled shell, the total angular momentum number $J=L+S$, otherwise $J=\\vert L-S \\vert$.\n",
    "\n",
    "The sliders allow choosing quantum number $l$ of the shell (1, 2 and 3 for $p$-, $d$- and $f$-shell, respectively) and the number of electrons filling it."
   ]
  },
  {
   "cell_type": "code",
   "execution_count": 5,
   "metadata": {},
   "outputs": [],
   "source": [
    "import numpy as np\n",
    "import matplotlib.pyplot as plt\n",
    "\n",
    "# from __future__ import print_function\n",
    "from ipywidgets import interact, interactive, fixed, interact_manual\n",
    "import ipywidgets as widgets\n",
    "\n"
   ]
  },
  {
   "cell_type": "code",
   "execution_count": 12,
   "metadata": {},
   "outputs": [],
   "source": [
    "spdf=['s','p','d','f','g','h'];\n",
    "def interactive_hund(orbit,elecs):\n",
    "    nn=orbit*2-1;\n",
    "    ml=orbit-1;\n",
    "    L=0;\n",
    "    S=0;\n",
    "    J=0;\n",
    "    ax = plt.plot();\n",
    "    \n",
    "    \n",
    "\n",
    "    plt.xlim(nn-ml-0.1,0-ml-1+0.1);\n",
    "    plt.ylim(-1.5,2.5);\n",
    "    plt.yticks([]);\n",
    "    \n",
    "   # plt.axis('off')\n",
    "    plt.xlabel('ml');\n",
    "    \n",
    "    print(spdf[ml],'shell')\n",
    "    print('number of electrons =',elecs)\n",
    "    \n",
    "    for x in range(-ml,ml+1):\n",
    "        plt.gca().add_patch(plt.Rectangle((x-0.4,-0.1),0.9,1.2,fill=False))\n",
    "    \n",
    "    if (elecs<=nn):\n",
    "        for x in range(-ml,elecs-ml):\n",
    "            plt.arrow(-x,0,0,0.8,head_width=0.2)\n",
    "            S=S+0.5;\n",
    "            L=L+x;\n",
    "        J=abs(abs(L)-abs(S));\n",
    "    else:\n",
    "        for x in range(0-ml,elecs-nn-ml):\n",
    "            plt.arrow((-x+0.1),0,0,0.8,head_width=0.2)\n",
    "            plt.arrow((-x-0.1),1,0,-0.8,head_width=0.2)\n",
    "            #plt.arrow(nn-x+0.2,1.2,0,-1,head_width=0.2)\n",
    "            S=S+0;\n",
    "            L=L+x*2;\n",
    "        for x in range(elecs-nn-ml,nn-ml):\n",
    "            plt.arrow(-x,0,0,0.8,head_width=0.2)\n",
    "            S=S+0.5;\n",
    "            L=L+x;\n",
    "        J=abs(L)+abs(S);\n",
    "    print('L=',abs(L),'S=',S)\n",
    "    print('J=',J)\n",
    "    return\n",
    "def interactive_hunds(shell):\n",
    "    interact(interactive_hund,orbit=fixed(shell+1),elecs=(1,(shell+1)*4-2))\n",
    "    return"
   ]
  },
  {
   "cell_type": "code",
   "execution_count": 13,
   "metadata": {},
   "outputs": [
    {
     "data": {
      "application/vnd.jupyter.widget-view+json": {
       "model_id": "8661895eacf644b0b06c003a5d4c7f4a",
       "version_major": 2,
       "version_minor": 0
      },
      "text/plain": [
       "interactive(children=(IntSlider(value=2, description='shell', max=3, min=1), Output()), _dom_classes=('widget-…"
      ]
     },
     "metadata": {},
     "output_type": "display_data"
    },
    {
     "data": {
      "text/plain": [
       "<function __main__.interactive_hunds(shell)>"
      ]
     },
     "execution_count": 13,
     "metadata": {},
     "output_type": "execute_result"
    }
   ],
   "source": [
    "interact(interactive_hunds,shell=(1,3))"
   ]
  },
  {
   "cell_type": "code",
   "execution_count": null,
   "metadata": {},
   "outputs": [],
   "source": []
  }
 ],
 "metadata": {
  "kernelspec": {
   "display_name": "Python 3",
   "language": "python",
   "name": "python3"
  },
  "language_info": {
   "codemirror_mode": {
    "name": "ipython",
    "version": 3
   },
   "file_extension": ".py",
   "mimetype": "text/x-python",
   "name": "python",
   "nbconvert_exporter": "python",
   "pygments_lexer": "ipython3",
   "version": "3.6.9"
  }
 },
 "nbformat": 4,
 "nbformat_minor": 4
}

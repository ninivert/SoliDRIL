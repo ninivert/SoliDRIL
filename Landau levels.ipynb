{
 "cells": [
  {
   "cell_type": "code",
   "execution_count": null,
   "metadata": {},
   "outputs": [],
   "source": [
    "import numpy as np\n",
    "import ipywidgets as ipw\n",
    "\n",
    "from bokeh.io import push_notebook, output_notebook, show\n",
    "from bokeh.layouts import row, column\n",
    "from bokeh.plotting import figure\n",
    "from bokeh.models import ColumnDataSource\n",
    "output_notebook()\n",
    "\n",
    "from ipywidgets import interact\n",
    "\n",
    "from collections import OrderedDict\n",
    "old_settings = np.seterr(over = 'ignore') #Ignore warnings about overflow data points"
   ]
  },
  {
   "cell_type": "markdown",
   "metadata": {},
   "source": [
    "### Start by setting some parameters including an (artificial) analytical expression of the Fermi surface along kz direction"
   ]
  },
  {
   "cell_type": "code",
   "execution_count": null,
   "metadata": {},
   "outputs": [],
   "source": [
    "kz = np.linspace(-np.pi, np.pi);\n",
    "Ez = -2*np.cos(kz)-3.0;\n",
    "B = 0.2; # Magnetic field\n",
    "hbar = 1.0;\n",
    "e = 1.0; # Electron charge\n",
    "m = 1.0; # (free) Electron mass\n",
    "c = 1.0; # Speed of light\n",
    "wc = e*B/(m*c); # Cyclotron frequency"
   ]
  },
  {
   "cell_type": "code",
   "execution_count": null,
   "metadata": {},
   "outputs": [],
   "source": [
    "# Define the Fermi surface in zero magnetic field\n",
    "freeE = figure(plot_height=400, plot_width=400, title=\"Dispersion relationship of a free electron\",\n",
    "              tools=\"pan,reset,save,wheel_zoom\", x_range = [1.1*np.amin(Ez), -1.1*np.amin(Ez)],\n",
    "              y_range = [np.amin(kz), np.amax(kz)]);\n",
    "source1 = ColumnDataSource(data = {'xVal':-Ez, 'yVal':kz, 'xxVal':Ez});\n",
    "freeE.line('xVal', 'yVal', source = source1, line_width=2, line_alpha=1);\n",
    "freeE.line('xxVal', 'yVal', source = source1, line_width=2, line_alpha=1);\n",
    "freeE.xaxis.axis_label = 'kx & ky';\n",
    "freeE.yaxis.axis_label = 'kz';\n",
    "show(freeE)"
   ]
  },
  {
   "cell_type": "markdown",
   "metadata": {},
   "source": [
    "### Define some expressions according to Landau quantization, such as the energy spacing and projection area in k-space"
   ]
  },
  {
   "cell_type": "code",
   "execution_count": null,
   "metadata": {},
   "outputs": [],
   "source": [
    "dE = hbar*wc;\n",
    "dA = 2*m*np.pi*wc/hbar;\n",
    "A = np.arange(np.amin(Ez)**2*np.pi, np.amax(Ez)**2*np.pi,-dA);\n",
    "kk = np.sqrt(A/np.pi);\n",
    "kF = np.array([np.flip(-kk),kk]);\n",
    "kF = kF.flatten();\n",
    "Ef = np.arccos((kk-3.0)/2.0);\n",
    "Ef = np.array([np.flip(-Ef),Ef]);\n",
    "Ef = Ef.flatten();\n",
    "gExy = m/(np.pi*hbar**2);\n",
    "source2 = ColumnDataSource(data = {'xVal':kF, 'yVal': Ef, 'yyVal': -Ef});\n",
    "freeE.circle('xVal','yVal', source = source2, line_width = 3, line_alpha = 0.2);\n",
    "freeE.circle('xVal','yyVal', source = source2, line_width = 3, line_alpha = 0.2);\n",
    "freeE.xaxis.axis_label = 'kx & ky';\n",
    "freeE.yaxis.axis_label = 'kz';"
   ]
  },
  {
   "cell_type": "markdown",
   "metadata": {},
   "source": [
    "### Set up a histogram to count interceptions between the Fermi surface and \"Landau tubes\", compute density of states"
   ]
  },
  {
   "cell_type": "code",
   "execution_count": null,
   "metadata": {},
   "outputs": [],
   "source": [
    "# Plot the histogram of states per energy interval\n",
    "\n",
    "# # Option 1: use adaptive bin width\n",
    "# dEf = np.diff(Ef);\n",
    "# bWidth = np.amax(np.abs(dEf)); # Define the bin width of the histogram so minimum it contains one kxy tube\n",
    "\n",
    "# # Option 2: use fixed bin size to slice\n",
    "bWidth = (np.amax(kz)-np.amin(kz))/100.0;\n",
    "\n",
    "histoN = (2*np.amax(kz)/bWidth).astype(int); # calculate the number of bars in the histogram\n",
    "kCount = np.empty(histoN, dtype = np.int8); # Declare an array to store histogram information\n",
    "gEs = np.empty(histoN, dtype = np.double); # Declare an array to store density of stats\n",
    "kIntv = np.linspace(kz.min(),kz.max(), histoN);\n",
    "zero = np.zeros(histoN);\n",
    "for idx in range(histoN):\n",
    "    kCount[idx] = len(Ef[ (Ef >= kIntv[idx-1]) & (Ef < kIntv[idx]) ])\n",
    "    gEs[idx] = kCount[idx]*gExy/(0.001+np.abs(np.sin(0.5*(kIntv[idx-1]+kIntv[idx]))));\n",
    "histo = figure(plot_height=400, plot_width=300, title=\"allowed states per Energy interval\",\n",
    "              tools=\"pan,reset,save,wheel_zoom\", y_range = [np.amin(kz), np.amax(kz)],\n",
    "              x_range = [0, 1.1*np.amax(gEs)]);\n",
    "histo.xaxis[0].axis_label='Number of states';\n",
    "histo.yaxis[0].axis_label='Energy (eV)';\n",
    "source3 = ColumnDataSource(data = {'bottom': kIntv, 'top': kIntv + bWidth, 'right':kCount, 'left': zero});\n",
    "source4 = ColumnDataSource(data = {'bottom': kIntv, 'top': kIntv + bWidth, 'right':gEs, 'left': zero})\n",
    "histo.quad(bottom = 'bottom', top = 'top', right = 'right', left = 'left', source = source3,\n",
    "           fill_color=\"navy\", line_color=\"white\", alpha=1);\n",
    "\n",
    "histo2 = figure(plot_height=400, plot_width=300, title = \"extrema orbitals\",\n",
    "              tools=\"pan,reset,save,wheel_zoom\", y_range = [np.amin(kz), np.amax(kz)],\n",
    "              x_range = [0, 1.1*np.amax(gEs)]);\n",
    "histo2.quad(bottom = 'bottom', top = 'top', right = 'right', left = 'left', source = source4,\n",
    "           fill_color=\"navy\", line_color=\"white\", alpha=1);\n",
    "\n",
    "show(row(freeE,histo,histo2))"
   ]
  },
  {
   "cell_type": "markdown",
   "metadata": {},
   "source": [
    "# Haas-van Alphan effect"
   ]
  },
  {
   "cell_type": "markdown",
   "metadata": {},
   "source": [
    "### Next, we use the above method to compute the density of states at different external fields to visualize the de Haas-van Alphen effect"
   ]
  },
  {
   "cell_type": "code",
   "execution_count": null,
   "metadata": {},
   "outputs": [],
   "source": [
    "# Remove variables to avoid conflicts\n",
    "%reset"
   ]
  },
  {
   "cell_type": "code",
   "execution_count": null,
   "metadata": {},
   "outputs": [],
   "source": [
    "import numpy as np\n",
    "import ipywidgets as ipw\n",
    "\n",
    "from bokeh.io import push_notebook, output_notebook, show\n",
    "from bokeh.layouts import row, column\n",
    "from bokeh.plotting import figure\n",
    "from bokeh.models import ColumnDataSource\n",
    "output_notebook()\n",
    "\n",
    "from ipywidgets import interact\n",
    "\n",
    "from collections import OrderedDict\n",
    "old_settings = np.seterr(over = 'ignore') #Ignore warnings about overflow data points"
   ]
  },
  {
   "cell_type": "markdown",
   "metadata": {},
   "source": [
    "### Wrap everything inside a function that takes a value of external field and computes the density of states"
   ]
  },
  {
   "cell_type": "code",
   "execution_count": null,
   "metadata": {},
   "outputs": [],
   "source": [
    "# Wrap everything in a function to compute densities of states at different external magnetic fields\n",
    "def LandauDen(B):\n",
    "    kz = np.linspace(-np.pi, np.pi);\n",
    "    Ez = -2*np.cos(kz)-3.0;\n",
    "    hbar = 1.0; \n",
    "    e = 1.0; # Electron charge\n",
    "    m = 1.0; # (free) Electron mass\n",
    "    c = 1.0; # Speed of light\n",
    "    wc = e*B/(m*c); # Cyclotron frequency\n",
    "    dE = hbar*wc;\n",
    "    A = np.arange(np.amin(Ez)**2*np.pi, np.amax(Ez)**2*np.pi,-2*m*np.pi*wc/hbar);\n",
    "    kk = np.sqrt(A/np.pi);\n",
    "    kF = np.array([np.flip(-kk),kk]);\n",
    "    kF = kF.flatten();\n",
    "    Ef = np.arccos((kk-3.0)/2.0);\n",
    "    Ef = np.array([np.flip(-Ef),Ef]);\n",
    "    Ef = Ef.flatten();\n",
    "    gExy = m/(np.pi*hbar**2);\n",
    "    bWidth = (np.amax(kz)-np.amin(kz))/100.0; # Fix the bin width\\\n",
    "    histoN = (2*np.amax(kz)/bWidth).astype(int); # calculate the number of bars in the histogram\n",
    "    gEs = np.empty(histoN, dtype = np.double); # Declare an array to store density of stats\n",
    "    haas = np.empty(histoN, dtype = np.double);\n",
    "    kIntv = np.linspace(kz.min(),kz.max(), histoN);\n",
    "    zero = np.zeros(histoN);\n",
    "    for idx in range(histoN-1):\n",
    "        temp = len(Ef[ (Ef >= kIntv[idx]) & (Ef <= kIntv[idx+1]) ]);\n",
    "        gEs[idx] = temp*gExy/(0.001+np.abs(np.sin(0.5*(kIntv[idx+1]+kIntv[idx]))));\n",
    "        haas = abs(np.sin(Ef**-2));\n",
    "    return np.sum(gEs)"
   ]
  },
  {
   "cell_type": "markdown",
   "metadata": {},
   "source": [
    "### Generate an array of sampling points in magnetic field"
   ]
  },
  {
   "cell_type": "code",
   "execution_count": null,
   "metadata": {},
   "outputs": [],
   "source": [
    "invB = np.arange(0.1, 1, 0.001);\n",
    "B = 1/invB;\n",
    "densStat = np.empty(np.size(B),dtype = np.double);\n",
    "for ii in range(np.size(densStat)):\n",
    "    densStat[ii] = LandauDen(B[ii]);"
   ]
  },
  {
   "cell_type": "code",
   "execution_count": null,
   "metadata": {},
   "outputs": [],
   "source": [
    "source5 = ColumnDataSource(data = {'xVal':B, 'yVal': densStat});\n",
    "source6 = ColumnDataSource(data = {'xVal':invB, 'yVal': densStat});\n",
    "dHvA = figure(plot_height=350, plot_width=450, title=\"Density of states of free electrons in magnetic field\");\n",
    "dHvA.line('xVal','yVal', source = source5, line_width = 2, line_alpha = 1);\n",
    "dHvA.xaxis.axis_label = 'Magnetic Field (B)';\n",
    "dHvA.yaxis.axis_label = 'Density of States';\n",
    "\n",
    "dHvA2 = figure(plot_height=350, plot_width=450, title=\"Density of states of free electrons in magnetic field\");\n",
    "dHvA2.line('xVal','yVal', source = source6, line_width = 2, line_alpha = 1);\n",
    "dHvA2.xaxis.axis_label = 'Inverse of Magnetic Field (1/B)';\n",
    "dHvA2.yaxis.axis_label = 'Density of States';\n",
    "\n",
    "show(row(dHvA,dHvA2))"
   ]
  },
  {
   "cell_type": "code",
   "execution_count": null,
   "metadata": {},
   "outputs": [],
   "source": []
  },
  {
   "cell_type": "code",
   "execution_count": null,
   "metadata": {},
   "outputs": [],
   "source": []
  }
 ],
 "metadata": {
  "kernelspec": {
   "display_name": "Python 3",
   "language": "python",
   "name": "python3"
  },
  "language_info": {
   "codemirror_mode": {
    "name": "ipython",
    "version": 3
   },
   "file_extension": ".py",
   "mimetype": "text/x-python",
   "name": "python",
   "nbconvert_exporter": "python",
   "pygments_lexer": "ipython3",
   "version": "3.6.8"
  }
 },
 "nbformat": 4,
 "nbformat_minor": 4
}

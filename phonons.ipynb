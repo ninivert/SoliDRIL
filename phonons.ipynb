{
 "cells": [
  {
   "cell_type": "code",
   "execution_count": 1,
   "metadata": {},
   "outputs": [],
   "source": [
    "import numpy as np\n",
    "import matplotlib.pyplot as plt\n",
    "from matplotlib import animation\n",
    "from matplotlib import rc\n",
    "import ipywidgets as ipw\n",
    "\n",
    "from ipywidgets import interact,interactive\n",
    "import ipywidgets as widgets\n",
    "\n",
    "from IPython.display import HTML\n",
    "rc('text', usetex=True)\n",
    "\n",
    "%matplotlib widget\n",
    "\n",
    "global global_K1\n",
    "global global_K2\n",
    "global global_branche\n",
    "global global_selected_k"
   ]
  },
  {
   "cell_type": "code",
   "execution_count": 2,
   "metadata": {},
   "outputs": [],
   "source": [
    "def get_closest_point(clic_x,clic_y):\n",
    "    # Get the data from the figure\n",
    "    ax= plt.gca() # get axis handle\n",
    "    acoustic_data = ax.lines[1]\n",
    "    optic_data = ax.lines[0]\n",
    "\n",
    "    # Find which line was closer\n",
    "    #closet x data\n",
    "    k_a = acoustic_data.get_xdata()\n",
    "    k_o = optic_data.get_xdata()\n",
    "    diff_k_a = np.abs(k_a-clic_x)\n",
    "    diff_k_o = np.abs(k_o-clic_x)\n",
    "    # get the x index corresponding to the closet k in the graph for both branches\n",
    "    index_a = np.argmin(diff_k_a)\n",
    "    index_o = np.argmin(diff_k_o)\n",
    "\n",
    "    # compute the distance on the y axis\n",
    "    y_diff_a = np.abs(acoustic_data.get_ydata()[index_a]-clic_y)\n",
    "    y_diff_o = np.abs(optic_data.get_ydata()[index_o]-clic_y)\n",
    "\n",
    "    ac_is_closer = y_diff_a < y_diff_o\n",
    "    # print a x at the postion \n",
    "    global global_branche\n",
    "    global global_selected_k\n",
    "    global global_omega\n",
    "    \n",
    "    if(ac_is_closer):\n",
    "        global_branche=1\n",
    "        global_selected_k = acoustic_data.get_xdata()[index_a]\n",
    "        global_omega = acoustic_data.get_ydata()[index_a]\n",
    "        return [acoustic_data.get_xdata()[index_a], acoustic_data.get_ydata()[index_a]]\n",
    "    else:\n",
    "        global_branche=2\n",
    "        global_selected_k = optic_data.get_xdata()[index_a]\n",
    "        global_omega = optic_data.get_ydata()[index_a]\n",
    "\n",
    "        return [optic_data.get_xdata()[index_a], optic_data.get_ydata()[index_a]]"
   ]
  },
  {
   "cell_type": "code",
   "execution_count": 3,
   "metadata": {},
   "outputs": [],
   "source": [
    "def interactive_lattice_plot(G,K):\n",
    "    '''\n",
    "    :param G,K: coupling\n",
    "    plot acoustic and optical phonons bands\n",
    "    '''\n",
    "    \n",
    "    # save the current values of G and K    \n",
    "    global global_K1\n",
    "    global global_K2\n",
    "    global_K1=G\n",
    "    global_K2=K\n",
    "    \n",
    "    k = np.linspace(-np.pi/2,np.pi/2,100)\n",
    "    \n",
    "    omega_o = G+K-np.sqrt((G+K)**2-4*G*K*np.sin(k)**2)\n",
    "    omega_a = G+K+np.sqrt((G+K)**2-4*G*K*np.sin(k)**2)\n",
    "    \n",
    "#     print(omega_o, omega_a)\n",
    "    ax1.clear();\n",
    "    ax1.plot(k,np.sqrt(omega_a))\n",
    "    ax1.plot(k,np.sqrt(omega_o))\n",
    "    ax1.set_xlabel(\"k\")\n",
    "    ax1.set_ylabel(\"$\\omega$\")\n",
    "    ax1.set_xticks(np.linspace(-np.pi/2,np.pi/2,5))\n",
    "    ax1.set_xticklabels(['$-\\pi/a$','','0','','$\\pi/a$'])\n",
    "       \n",
    "    def onclick(event):    \n",
    "        # clear the previous point \n",
    "        for i in np.arange(3, len(ax1.lines)+1) :\n",
    "            ax1.lines.pop()\n",
    "        # Get the coordonate of the data closest from the click\n",
    "        [x,y]=get_closest_point(event.xdata,event.ydata)\n",
    "        ax1.plot(x, y, '.',color='red')\n",
    "    \n",
    "    cid = fig.canvas.mpl_connect('button_press_event', onclick)\n",
    "    plt.show()"
   ]
  },
  {
   "cell_type": "code",
   "execution_count": 4,
   "metadata": {},
   "outputs": [
    {
     "data": {
      "application/vnd.jupyter.widget-view+json": {
       "model_id": "61508b2bb8034e43bd6b5f4b98ab96b6",
       "version_major": 2,
       "version_minor": 0
      },
      "text/plain": [
       "Canvas(toolbar=Toolbar(toolitems=[('Home', 'Reset original view', 'home', 'home'), ('Back', 'Back to previous …"
      ]
     },
     "metadata": {},
     "output_type": "display_data"
    },
    {
     "data": {
      "application/vnd.jupyter.widget-view+json": {
       "model_id": "a8af40459d8143879e489a6e354513c8",
       "version_major": 2,
       "version_minor": 0
      },
      "text/plain": [
       "interactive(children=(FloatSlider(value=6.0, description='G', max=6.0, min=1.0, step=0.05), FloatSlider(value=…"
      ]
     },
     "metadata": {},
     "output_type": "display_data"
    }
   ],
   "source": [
    "g = ipw.FloatSlider(min=1, max=6, step=0.05, value=6);\n",
    "k = ipw.FloatSlider(min=1, max=6, step=0.05, value=1);\n",
    "fig=plt.figure()\n",
    "ax1=plt.axes()\n",
    "plt.ion()\n",
    "interactive(interactive_lattice_plot, G=g, K=k)"
   ]
  },
  {
   "cell_type": "code",
   "execution_count": 5,
   "metadata": {},
   "outputs": [
    {
     "data": {
      "application/vnd.jupyter.widget-view+json": {
       "model_id": "d928c6248f99471a94f0f1c07036cb5b",
       "version_major": 2,
       "version_minor": 0
      },
      "text/plain": [
       "Canvas(toolbar=Toolbar(toolitems=[('Home', 'Reset original view', 'home', 'home'), ('Back', 'Back to previous …"
      ]
     },
     "metadata": {},
     "output_type": "display_data"
    },
    {
     "ename": "NameError",
     "evalue": "name 'global_branche' is not defined",
     "output_type": "error",
     "traceback": [
      "\u001b[0;31m---------------------------------------------------------------------------\u001b[0m",
      "\u001b[0;31mNameError\u001b[0m                                 Traceback (most recent call last)",
      "\u001b[0;32m<ipython-input-5-3beddc3d261e>\u001b[0m in \u001b[0;36m<module>\u001b[0;34m\u001b[0m\n\u001b[1;32m      6\u001b[0m \u001b[0mline_u\u001b[0m\u001b[0;34m,\u001b[0m \u001b[0;34m=\u001b[0m \u001b[0max2\u001b[0m\u001b[0;34m.\u001b[0m\u001b[0mplot\u001b[0m\u001b[0;34m(\u001b[0m\u001b[0;34m[\u001b[0m\u001b[0;34m]\u001b[0m\u001b[0;34m,\u001b[0m \u001b[0;34m[\u001b[0m\u001b[0;34m]\u001b[0m\u001b[0;34m,\u001b[0m \u001b[0;34m\"ok\"\u001b[0m\u001b[0;34m)\u001b[0m\u001b[0;34m\u001b[0m\u001b[0;34m\u001b[0m\u001b[0m\n\u001b[1;32m      7\u001b[0m \u001b[0mline_v\u001b[0m\u001b[0;34m,\u001b[0m \u001b[0;34m=\u001b[0m \u001b[0max2\u001b[0m\u001b[0;34m.\u001b[0m\u001b[0mplot\u001b[0m\u001b[0;34m(\u001b[0m\u001b[0;34m[\u001b[0m\u001b[0;34m]\u001b[0m\u001b[0;34m,\u001b[0m \u001b[0;34m[\u001b[0m\u001b[0;34m]\u001b[0m\u001b[0;34m,\u001b[0m \u001b[0;34m\"ob\"\u001b[0m\u001b[0;34m)\u001b[0m\u001b[0;34m\u001b[0m\u001b[0;34m\u001b[0m\u001b[0m\n\u001b[0;32m----> 8\u001b[0;31m \u001b[0;32mif\u001b[0m \u001b[0mglobal_branche\u001b[0m \u001b[0;34m==\u001b[0m \u001b[0;36m1\u001b[0m\u001b[0;34m:\u001b[0m\u001b[0;34m\u001b[0m\u001b[0;34m\u001b[0m\u001b[0m\n\u001b[0m\u001b[1;32m      9\u001b[0m     \u001b[0max2\u001b[0m\u001b[0;34m.\u001b[0m\u001b[0mtitle\u001b[0m\u001b[0;34m.\u001b[0m\u001b[0mset_text\u001b[0m\u001b[0;34m(\u001b[0m\u001b[0;34m\"Acoustic\"\u001b[0m\u001b[0;34m)\u001b[0m\u001b[0;34m\u001b[0m\u001b[0;34m\u001b[0m\u001b[0m\n\u001b[1;32m     10\u001b[0m \u001b[0;32melse\u001b[0m \u001b[0;34m:\u001b[0m\u001b[0;34m\u001b[0m\u001b[0;34m\u001b[0m\u001b[0m\n",
      "\u001b[0;31mNameError\u001b[0m: name 'global_branche' is not defined"
     ]
    }
   ],
   "source": [
    "fig2 = plt.figure()\n",
    "ax2 = plt.axes()\n",
    "ax2.set_xlim([-2,10])\n",
    "ax2.set_xticks([])\n",
    "ax2.set_yticks([])\n",
    "line_u, = ax2.plot([], [], \"ok\")\n",
    "line_v, = ax2.plot([], [], \"ob\")\n",
    "if global_branche == 1:\n",
    "    ax2.title.set_text(\"Acoustic\")\n",
    "else : \n",
    "    ax2.title.set_text(\"Optic\")\n",
    "\n",
    "a = 2 # lattice parameter\n",
    "d = 0.5 # distance between atoms 1 and 2 in basis \n",
    "N=5 # number of repeated basis\n",
    "pos_u = np.arange(N)*a \n",
    "pos_v = np.arange(N)*a+d\n",
    "ax2.plot(pos_u,np.zeros(N),\"ok\",mfc='none')\n",
    "ax2.plot(pos_v,np.zeros(N),\"ob\",mfc='none')\n",
    "# Initialization function: plot the background of each frame\n",
    "def init():\n",
    "    line_u.set_data([], [])\n",
    "    line_v.set_data([], [])\n",
    "\n",
    "    return line_u,\n",
    "\n",
    "# Animation function which updates figure data.  This is called sequentially\n",
    "def animate(iteration):\n",
    "    t=0.05*iteration\n",
    "    a = 2 # lattice parameter\n",
    "    d = 0.5 # distance between atoms 1 and 2 in basis \n",
    "    N=5 # number of repeated basis \n",
    "    global global_branche # acoustic or optical selected in the previous graph\n",
    "    global global_selected_k # wave number selected in the previous graph\n",
    "    relative_phase = (-1)** (1+global_branche) # relative phase between atom 1 and 2 in the basis\n",
    "\n",
    "    global global_K1\n",
    "    global global_K2 # interactions \n",
    "    \n",
    "    a_nu = d/3.45*(relative_phase*(global_K1+global_K2*np.exp(1j*global_selected_k*a))/np.abs(global_K1+global_K2*np.exp(1j*global_selected_k*a)))\n",
    "    b_nu = d/3.45 \n",
    "    \n",
    "    ns = np.arange(N)\n",
    "    u_n = np.real(a_nu*np.exp(1j*global_selected_k*ns*a-1j*global_omega*t))\n",
    "    v_n = np.real(b_nu*np.exp(1j*global_selected_k*ns*a-1j*global_omega*t))\n",
    "    \n",
    "    pos_u = np.arange(N)*a + u_n\n",
    "    pos_v = np.arange(N)*a+d+v_n\n",
    "    \n",
    "    line_u.set_data(np.asarray([pos_u,np.zeros(N)]))\n",
    "    line_v.set_data(np.asarray([pos_v,np.zeros(N)]))\n",
    "    return line_u,"
   ]
  },
  {
   "cell_type": "code",
   "execution_count": null,
   "metadata": {},
   "outputs": [],
   "source": [
    "# Call the animator\n",
    "anim = animation.FuncAnimation(fig2, animate, init_func=init, frames=300, interval=30, blit=True)"
   ]
  },
  {
   "cell_type": "code",
   "execution_count": null,
   "metadata": {},
   "outputs": [],
   "source": []
  },
  {
   "cell_type": "code",
   "execution_count": null,
   "metadata": {},
   "outputs": [],
   "source": []
  },
  {
   "cell_type": "code",
   "execution_count": null,
   "metadata": {
    "scrolled": true
   },
   "outputs": [],
   "source": []
  },
  {
   "cell_type": "code",
   "execution_count": null,
   "metadata": {},
   "outputs": [],
   "source": []
  },
  {
   "cell_type": "code",
   "execution_count": null,
   "metadata": {},
   "outputs": [],
   "source": []
  }
 ],
 "metadata": {
  "kernelspec": {
   "display_name": "Python 3",
   "language": "python",
   "name": "python3"
  },
  "language_info": {
   "codemirror_mode": {
    "name": "ipython",
    "version": 3
   },
   "file_extension": ".py",
   "mimetype": "text/x-python",
   "name": "python",
   "nbconvert_exporter": "python",
   "pygments_lexer": "ipython3",
   "version": "3.6.9"
  }
 },
 "nbformat": 4,
 "nbformat_minor": 4
}
